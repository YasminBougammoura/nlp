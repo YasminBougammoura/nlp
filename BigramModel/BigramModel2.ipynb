{
  "nbformat": 4,
  "nbformat_minor": 0,
  "metadata": {
    "colab": {
      "provenance": [],
      "authorship_tag": "ABX9TyMMrMrlBjsWdTTbV3/Iq1DS"
    },
    "kernelspec": {
      "name": "python3",
      "display_name": "Python 3"
    },
    "language_info": {
      "name": "python"
    }
  },
  "cells": [
    {
      "cell_type": "code",
      "source": [
        "%reset -f"
      ],
      "metadata": {
        "id": "ycwpoT8gXH-o"
      },
      "execution_count": 88,
      "outputs": []
    },
    {
      "cell_type": "code",
      "source": [
        "import torch\n",
        "import torch.nn.functional as F\n",
        "import matplotlib.pyplot as plt\n",
        "%matplotlib inline"
      ],
      "metadata": {
        "id": "LI8Wo6PPuzcF"
      },
      "execution_count": 1,
      "outputs": []
    },
    {
      "cell_type": "code",
      "execution_count": 2,
      "metadata": {
        "id": "9uFF8Mo_kPOR"
      },
      "outputs": [],
      "source": [
        "words = open(\"/content/names.txt\",'r').read().splitlines()"
      ]
    },
    {
      "cell_type": "code",
      "source": [
        "#words[:8]"
      ],
      "metadata": {
        "colab": {
          "base_uri": "https://localhost:8080/"
        },
        "id": "QiApv9cZm4iy",
        "outputId": "43585b16-bb99-4dbe-c7fe-11f8aa3e10fd"
      },
      "execution_count": 31,
      "outputs": [
        {
          "output_type": "execute_result",
          "data": {
            "text/plain": [
              "['emma', 'olivia', 'ava', 'isabella', 'sophia', 'charlotte', 'mia', 'amelia']"
            ]
          },
          "metadata": {},
          "execution_count": 31
        }
      ]
    },
    {
      "cell_type": "code",
      "source": [
        "# BUILDING THE VOCABULARY MAPPING\n",
        "chars = sorted(list(set(''.join(words))))\n",
        "stoi = {s:i+1 for i,s in enumerate(chars)}\n",
        "stoi['.'] = 0\n",
        "itos = {i:s for s,i in stoi.items()}\n",
        "\n",
        "vocab_size = len(itos)"
      ],
      "metadata": {
        "id": "Xtyud24Uxhnp"
      },
      "execution_count": 5,
      "outputs": []
    },
    {
      "cell_type": "code",
      "source": [
        "# BUILDING THE DATASET\n",
        "# Training (Train parameters), Validation (Hyperparameters), Testing (Evaluate performance) split\n",
        "\n",
        "block_size = 3\n",
        "\n",
        "def build_dataset(words):\n",
        "  X, Y = [], []\n",
        "\n",
        "  for w in words:\n",
        "    context = [0] * block_size\n",
        "    for ch in w + '.':\n",
        "      ix = stoi[ch]\n",
        "      X.append(context)\n",
        "      Y.append(ix)\n",
        "      context = context[1:] + [ix]\n",
        "\n",
        "  X = torch.tensor(X)\n",
        "  Y = torch.tensor(Y)\n",
        "  print(X.shape, Y.shape)\n",
        "  return X,Y\n",
        "\n",
        "import random\n",
        "random.seed(42)\n",
        "random.shuffle(words)\n",
        "n1 = int(0.8*len(words))\n",
        "n2 = int(0.9*len(words))\n",
        "\n",
        "Xtr, Ytr = build_dataset(words[:n1])\n",
        "Xdev, Ydev = build_dataset(words[n1:n2])\n",
        "Xte, Yte = build_dataset(words[n2:])\n"
      ],
      "metadata": {
        "colab": {
          "base_uri": "https://localhost:8080/"
        },
        "id": "Fnn6jrECHMey",
        "outputId": "48a40be1-3c64-4939-9fc4-ad1d4688da67"
      },
      "execution_count": 7,
      "outputs": [
        {
          "output_type": "stream",
          "name": "stdout",
          "text": [
            "torch.Size([182437, 3]) torch.Size([182437])\n",
            "torch.Size([22781, 3]) torch.Size([22781])\n",
            "torch.Size([22928, 3]) torch.Size([22928])\n"
          ]
        }
      ]
    },
    {
      "cell_type": "code",
      "source": [
        "# NEURAL NETWORK\n",
        "\n",
        "n_embd = 10\n",
        "n_hidden = 200\n",
        "\n",
        "g = torch.Generator().manual_seed(2147483647)\n",
        "C = torch.randn((vocab_size,n_embd), generator = g)\n",
        "W1 = torch.randn((n_embd * block_size,n_hidden), generator = g) * (5/3)/((n_embd*block_size)**(0.5))\n",
        "#b1 = torch.randn(n_hidden, generator = g) * 0.01\n",
        "W2 = torch.randn((n_hidden,vocab_size), generator = g) * 0.01\n",
        "b2 = torch.randn(vocab_size, generator = g) * 0\n",
        "\n",
        "'''\n",
        "Initial values have to be scaled in order to have a forst iteration loss in\n",
        "the right scale, since the more the logits differ between them, the more\n",
        "the loss value (initial loss value because then the network learns)\n",
        "In other words we want an initial equal probability distribution\n",
        "Also, scale is necessary in order to have a more suitable preactivation\n",
        "layer so that we get away form the case of dead neurons or neurons that don't\n",
        "learn (values of tanh are mainly at the extremes -1 and 1)\n",
        "'''\n",
        "\n",
        "bngain = torch.ones((1,n_hidden))\n",
        "bnbias = torch.zeros((1,n_hidden))\n",
        "bnmean_running = torch.zeros((1,n_hidden))\n",
        "bnstd_running = torch.ones((1, n_hidden))\n",
        "\n",
        "parameters = [C,W1,W2,b2, bngain, bnbias]\n",
        "print(sum(p.nelement() for p in parameters))\n",
        "for p in parameters:\n",
        "  p.requires_grad = True\n",
        "\n"
      ],
      "metadata": {
        "colab": {
          "base_uri": "https://localhost:8080/"
        },
        "id": "a2Soke3YFSo1",
        "outputId": "b763aea2-b0d3-4538-baaa-50746d4b3e78"
      },
      "execution_count": 29,
      "outputs": [
        {
          "output_type": "stream",
          "name": "stdout",
          "text": [
            "12297\n"
          ]
        }
      ]
    },
    {
      "cell_type": "code",
      "source": [
        "max_steps = 200000\n",
        "batch_size = 32\n",
        "lossi = []\n",
        "\n",
        "for i in range(max_steps):\n",
        "\n",
        "  # minibatch construct\n",
        "  ix = torch.randint(0,Xtr.shape[0], (batch_size,), generator = g)\n",
        "  Xb, Yb = Xtr[ix], Ytr[ix]\n",
        "\n",
        "  # forward pass\n",
        "\n",
        "  emb = C[Xb]\n",
        "  embcat = emb.view(emb.shape[0], -1) # input layer\n",
        "\n",
        "  hpreact = embcat @ W1 #+ b1 #hidden linear layer preactivation\n",
        "\n",
        "  # batch normalization layer\n",
        "  '''\n",
        "  It has a regularization effect because the function is related to\n",
        "  all the examples input of the network and not only the batch's ones\n",
        "  '''\n",
        "  bnmeani = hpreact.mean(0, keepdim=True)\n",
        "  bnstdi = hpreact.std(0, keepdim=True)\n",
        "  hpreact = bngain * (hpreact - bnmeani)/(bnstdi+0.001) + bnbias\n",
        "  with torch.no_grad():\n",
        "    bnmean_running = 0.999 * bnmean_running + 0.01 * bnmeani\n",
        "    bnstd_running = 0.999 * bnstd_running + 0.01 * bnstdi\n",
        "\n",
        "  # Non-linearity layer\n",
        "  h = torch.tanh(hpreact)\n",
        "  logits = h @ W2 + b2\n",
        "  loss = F.cross_entropy(logits,Yb)\n",
        "\n",
        "  # backward pass\n",
        "  for p in parameters:\n",
        "    p.grad = None\n",
        "  loss.backward()\n",
        "\n",
        "  # update parameters\n",
        "  lr = 10**-1 if i < 100000 else 10**-2\n",
        "  for p in parameters:\n",
        "    p.data += -lr*p.grad\n",
        "\n",
        "  #tracks\n",
        "  #if i % 10000 == 0: # print every once in a while\n",
        "    #print(f'{i:7d}/{max_steps:7d}: {loss.item():.4f}')\n",
        "  lossi.append(loss.log10().item())\n"
      ],
      "metadata": {
        "id": "N_3YjsTzGjA4"
      },
      "execution_count": 30,
      "outputs": []
    },
    {
      "cell_type": "code",
      "source": [
        "plt.plot(lossi)"
      ],
      "metadata": {
        "colab": {
          "base_uri": "https://localhost:8080/",
          "height": 447
        },
        "id": "XBUJBPhV3G52",
        "outputId": "dbb23217-fab5-4382-ebe2-2f08a3339852"
      },
      "execution_count": 31,
      "outputs": [
        {
          "output_type": "execute_result",
          "data": {
            "text/plain": [
              "[<matplotlib.lines.Line2D at 0x7c29a9e3dae0>]"
            ]
          },
          "metadata": {},
          "execution_count": 31
        },
        {
          "output_type": "display_data",
          "data": {
            "text/plain": [
              "<Figure size 640x480 with 1 Axes>"
            ],
            "image/png": "[encoded data removed]"
          },
          "metadata": {}
        }
      ]
    },
    {
      "cell_type": "code",
      "source": [
        "'''Calibrating batch norm at end of training so that it is possible\n",
        "to forward a single example\n",
        "\n",
        "\n",
        "with torch.no_grad():\n",
        "  emb = C[Xtr]\n",
        "  embcat = emb.view(emb.shape[0], -1)\n",
        "  hpreact = embcat @ W1 + b1\n",
        "\n",
        "  bnmean = hpreact.mean(0, keepdim = True)\n",
        "  bnstd = hpreact.std(0, keepdim = True)\n",
        "\n",
        "'''"
      ],
      "metadata": {
        "id": "vKN2hi86WeMW"
      },
      "execution_count": null,
      "outputs": []
    },
    {
      "cell_type": "code",
      "source": [
        "# EVALUATE MODEL\n",
        "\n",
        "@torch.no_grad()\n",
        "def split_loss(split):\n",
        "  x,y = {\n",
        "      'train': {Xtr,Ytr},\n",
        "      'val': {Xdev, Ydev},\n",
        "      'test': {Xte,Yte}\n",
        "  }[split]\n",
        "  emb = C[x]\n",
        "  embcat = emb.view(emb.shape[0],-1)\n",
        "  hpreact = embcat @ W1 + b1\n",
        "  hpreact = bngain * (hpreact - bnmean_running)/bnstd_running + bnbias\n",
        "  h = torch.tanh(hpreact)\n",
        "  logits = h @ W2 + b2\n",
        "  loss = F.cross_entropy(logits,y)\n",
        "  print(split, loss.item())\n",
        "\n",
        "split_loss('train')\n",
        "split_loss('val')"
      ],
      "metadata": {
        "colab": {
          "base_uri": "https://localhost:8080/"
        },
        "id": "qhHhYUfjBCZJ",
        "outputId": "56f732d6-12ad-474e-9f78-8f14489ae1dd"
      },
      "execution_count": 33,
      "outputs": [
        {
          "output_type": "stream",
          "name": "stdout",
          "text": [
            "train 3.672881603240967\n",
            "val 3.673287868499756\n"
          ]
        }
      ]
    },
    {
      "cell_type": "code",
      "source": [
        "# GENERATING FROM THE MODEL\n",
        "\n",
        "g = torch.Generator().manual_seed(2147483647 + 10)\n",
        "\n",
        "for _ in range(20):\n",
        "\n",
        "  out = []\n",
        "  context = [0] * block_size\n",
        "  while True:\n",
        "\n",
        "    emb = C[torch.tensor([context])] #(1,block_size,d)\n",
        "    h = torch.tanh(emb.view(1,-1)@W1 + b1)\n",
        "    logits = h@W2 + b2\n",
        "    probs = F.softmax(logits, dim = 1)\n",
        "    ix = torch.multinomial(probs, num_samples = 1, generator = g). item()\n",
        "    context = context[1:] + [ix]\n",
        "    out.append(ix)\n",
        "    if ix == 0:\n",
        "      break\n",
        "  print(''.join(itos[i] for i in out))"
      ],
      "metadata": {
        "colab": {
          "base_uri": "https://localhost:8080/"
        },
        "id": "RCVZhMh2Rn8N",
        "outputId": "06ddaa2a-eea7-4f15-da40-79837b9cf7a8"
      },
      "execution_count": 22,
      "outputs": [
        {
          "output_type": "stream",
          "name": "stdout",
          "text": [
            "mora.\n",
            "mayah.\n",
            "seel.\n",
            "ndhonalarethruthadrie.\n",
            "cadelynnelin.\n",
            "shy.\n",
            "jen.\n",
            "eden.\n",
            "edora.\n",
            "raelynn.\n",
            "hotha.\n",
            "noshubergiagriel.\n",
            "kinde.\n",
            "jennix.\n",
            "teron.\n",
            "ube.\n",
            "geder.\n",
            "yarue.\n",
            "els.\n",
            "kayshayton.\n"
          ]
        }
      ]
    }
  ]
}