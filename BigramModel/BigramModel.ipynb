{
  "nbformat": 4,
  "nbformat_minor": 0,
  "metadata": {
    "colab": {
      "provenance": []
    },
    "kernelspec": {
      "name": "python3",
      "display_name": "Python 3"
    },
    "language_info": {
      "name": "python"
    }
  },
  "cells": [
    {
      "cell_type": "code",
      "source": [
        "%reset -f"
      ],
      "metadata": {
        "id": "ycwpoT8gXH-o"
      },
      "execution_count": null,
      "outputs": []
    },
    {
      "cell_type": "code",
      "source": [
        "import torch\n",
        "import torch.nn.functional as F\n",
        "import matplotlib.pyplot as plt\n",
        "%matplotlib inline"
      ],
      "metadata": {
        "id": "LI8Wo6PPuzcF"
      },
      "execution_count": 1,
      "outputs": []
    },
    {
      "cell_type": "code",
      "execution_count": 2,
      "metadata": {
        "id": "9uFF8Mo_kPOR"
      },
      "outputs": [],
      "source": [
        "words = open(\"/content/names.txt\",'r').read().splitlines()"
      ]
    },
    {
      "cell_type": "code",
      "source": [
        "'''\n",
        "words = words[:5]\n",
        "words\n",
        "'''"
      ],
      "metadata": {
        "colab": {
          "base_uri": "https://localhost:8080/"
        },
        "id": "QiApv9cZm4iy",
        "outputId": "cbed0887-767f-4f0f-b18a-cd53396516d4"
      },
      "execution_count": null,
      "outputs": [
        {
          "output_type": "execute_result",
          "data": {
            "text/plain": [
              "['emma', 'olivia', 'ava', 'isabella', 'sophia']"
            ]
          },
          "metadata": {},
          "execution_count": 3
        }
      ]
    },
    {
      "cell_type": "code",
      "source": [
        "'''\n",
        "b = {}\n",
        "for w in words:\n",
        "  chs = ['<S>'] +list(w) + ['<E>']\n",
        "  for ch1,ch2 in zip(chs,chs[1:]):\n",
        "    bigram = (ch1,ch2)\n",
        "    b[bigram] = b.get(bigram,0) + 1\n",
        "\n",
        "sorted(b.items(), key = lambda kv: -kv[1])\n",
        "'''"
      ],
      "metadata": {
        "id": "2lylyxlcmkYg"
      },
      "execution_count": null,
      "outputs": []
    },
    {
      "cell_type": "code",
      "source": [
        "\n",
        "chars = sorted(list(set(''.join(words))))\n",
        "stoi = {s:i+1 for i,s in enumerate(chars)}\n",
        "stoi['.'] = 0\n",
        "itos = {i:s for s,i in stoi.items()}\n"
      ],
      "metadata": {
        "id": "Xtyud24Uxhnp"
      },
      "execution_count": 3,
      "outputs": []
    },
    {
      "cell_type": "code",
      "source": [
        "N = torch.zeros((27,27),dtype=torch.int32)"
      ],
      "metadata": {
        "id": "nV6UwgSqr_CG"
      },
      "execution_count": 5,
      "outputs": []
    },
    {
      "cell_type": "code",
      "source": [
        "# UPDATE MATRIX WITH COUNTS\n",
        "for w in words:\n",
        "  chs = ['.'] + list(w) + ['.']\n",
        "  for ch1,ch2 in zip(chs,chs[1:]):\n",
        "    ix1 = stoi[ch1]\n",
        "    ix2 = stoi[ch2]\n",
        "    N[ix1,ix2] += 1"
      ],
      "metadata": {
        "id": "ZgOJRJ9pyF2h"
      },
      "execution_count": 6,
      "outputs": []
    },
    {
      "cell_type": "code",
      "source": [
        "plt.figure(figsize=(10,10))\n",
        "plt.imshow(N, cmap='Blues')\n",
        "\n",
        "for i in range(12):\n",
        "  for j in range(12):\n",
        "    chstr = itos[i] + itos[j]\n",
        "    plt.text(j,i,chstr, ha=\"center\", va=\"bottom\", color=\"gray\")\n",
        "    plt.text(j,i, N[i,j].item(), ha=\"center\", va=\"top\",color=\"gray\")\n"
      ],
      "metadata": {
        "id": "dRiHlzCB9RWY"
      },
      "execution_count": null,
      "outputs": []
    },
    {
      "cell_type": "code",
      "source": [
        "# GENERATING SAMPLES\n",
        "g = torch.Generator().manual_seed(2147983647)\n",
        "\n",
        "P = (N+1).float()\n",
        "P /= P.sum(1, keepdim=True)\n",
        "\n",
        "for i in range(3):\n",
        "  out = []\n",
        "  ix = 0\n",
        "  while True:\n",
        "    p = P[ix]\n",
        "    ix = torch.multinomial(p, num_samples=1,replacement=True, generator=g).item()\n",
        "    out.append(itos[ix])\n",
        "    if ix == 0:\n",
        "      break\n",
        "  print(''.join(out))"
      ],
      "metadata": {
        "colab": {
          "base_uri": "https://localhost:8080/"
        },
        "id": "spSkXzzGFNiO",
        "outputId": "b1be3609-0080-4a69-8c6c-2b8e4e0b6786"
      },
      "execution_count": 7,
      "outputs": [
        {
          "output_type": "stream",
          "name": "stdout",
          "text": [
            "ta.\n",
            "arovid.\n",
            "ya.\n"
          ]
        }
      ]
    },
    {
      "cell_type": "code",
      "source": [
        "# NEGATIVE LOGLIKELIHOOD\n",
        "log_likelihood = 0.0\n",
        "n = 0\n",
        "\n",
        "for w in words:\n",
        "  chs = ['.'] + list(w) + ['.']\n",
        "  for ch1,ch2 in zip(chs,chs[1:]):\n",
        "    ix1 = stoi[ch1]\n",
        "    ix2 = stoi[ch2]\n",
        "    prob = P[ix1,ix2]\n",
        "    logprob = torch.log(prob)\n",
        "    log_likelihood += logprob\n",
        "    n += 1\n",
        "\n",
        "print(f'{log_likelihood=}')\n",
        "nll = -log_likelihood\n",
        "print(f'{nll=}')\n",
        "print(f'{nll/n}')"
      ],
      "metadata": {
        "colab": {
          "base_uri": "https://localhost:8080/"
        },
        "id": "_SHcxfevPwQd",
        "outputId": "b9e902c8-28ff-487d-909c-c3bb546257d1"
      },
      "execution_count": 8,
      "outputs": [
        {
          "output_type": "stream",
          "name": "stdout",
          "text": [
            "log_likelihood=tensor(-559951.5625)\n",
            "nll=tensor(559951.5625)\n",
            "2.4543561935424805\n"
          ]
        }
      ]
    },
    {
      "cell_type": "code",
      "source": [
        "g = torch.Generator().manual_seed(2147483647)\n",
        "W = torch.randn((27,27), generator = g, requires_grad=True)"
      ],
      "metadata": {
        "id": "bNSZJ8bh1oqI"
      },
      "execution_count": 9,
      "outputs": []
    },
    {
      "cell_type": "code",
      "source": [
        "xs, ys = [], []\n",
        "\n",
        "for w in words:\n",
        "  chs = ['.'] + list(w) + ['.']\n",
        "  for ch1,ch2 in zip(chs,chs[1:]):\n",
        "    ix1 = stoi[ch1]\n",
        "    ix2 = stoi[ch2]\n",
        "    xs.append(ix1)\n",
        "    ys.append(ix2)\n",
        "\n",
        "xs = torch.tensor(xs)\n",
        "ys = torch.tensor(ys)\n",
        "\n",
        "num = xs.nelement()\n",
        "print('Number of examples: ', num)"
      ],
      "metadata": {
        "colab": {
          "base_uri": "https://localhost:8080/"
        },
        "id": "1J_wpm5RKpkf",
        "outputId": "c89b6e4b-8494-405e-9295-7dd6f3643580"
      },
      "execution_count": 10,
      "outputs": [
        {
          "output_type": "stream",
          "name": "stdout",
          "text": [
            "Number of examples:  228146\n"
          ]
        }
      ]
    },
    {
      "cell_type": "code",
      "source": [
        "'''\n",
        "X = F.one_hot(xs, num_classes = 12).float()\n",
        "logits = X @ W\n",
        "counts = logits.exp()\n",
        "probs = counts/ counts.sum(1, keepdims=True)\n",
        "'''"
      ],
      "metadata": {
        "id": "dXTn98QFYTlg"
      },
      "execution_count": null,
      "outputs": []
    },
    {
      "cell_type": "code",
      "source": [
        "'''\n",
        "probs[torch.arange(2),[1,2]]\n",
        "'''"
      ],
      "metadata": {
        "id": "HpljNNsIZViT"
      },
      "execution_count": null,
      "outputs": []
    },
    {
      "cell_type": "code",
      "source": [
        "'''\n",
        "probs\n",
        "'''"
      ],
      "metadata": {
        "id": "7Ho_AN-3c0E6"
      },
      "execution_count": null,
      "outputs": []
    },
    {
      "cell_type": "code",
      "source": [
        "'''\n",
        "probs.shape\n",
        "'''"
      ],
      "metadata": {
        "colab": {
          "base_uri": "https://localhost:8080/"
        },
        "id": "4v9BJgbus4ju",
        "outputId": "59e0f99b-eaef-47ef-ebd6-54548bbfc68c"
      },
      "execution_count": 13,
      "outputs": [
        {
          "output_type": "execute_result",
          "data": {
            "text/plain": [
              "torch.Size([228146, 27])"
            ]
          },
          "metadata": {},
          "execution_count": 13
        }
      ]
    },
    {
      "cell_type": "code",
      "source": [
        "for k in range(1):\n",
        "\n",
        "  X = F.one_hot(xs, num_classes = 27).float()\n",
        "  logits = X @ W\n",
        "  counts = logits.exp()\n",
        "  probs = counts/ counts.sum(1, keepdims=True)\n",
        "  loss = -probs[torch.arange(228146),ys].log().mean() + 0.01*(W**2).mean()\n",
        "  print(loss.item())\n",
        "\n",
        "  W.grad = None\n",
        "  loss.backward()\n",
        "\n",
        "  W.data += -50*W.grad"
      ],
      "metadata": {
        "colab": {
          "base_uri": "https://localhost:8080/"
        },
        "id": "ubuxiMCKJdWE",
        "outputId": "4b2eb7d7-1c08-47b2-c947-25b24d49f934"
      },
      "execution_count": 22,
      "outputs": [
        {
          "output_type": "stream",
          "name": "stdout",
          "text": [
            "3.3788065910339355\n"
          ]
        }
      ]
    },
    {
      "cell_type": "code",
      "source": [
        "g = torch.Generator().manual_seed(2147483647)\n",
        "\n",
        "for i in range(5):\n",
        "\n",
        "  out = []\n",
        "  ix = 0\n",
        "  while True:\n",
        "\n",
        "    X = F.one_hot(torch.tensor([ix]), num_classes = 27).float()\n",
        "    logits = X @ W\n",
        "    counts = logits.exp()\n",
        "    p = counts/counts.sum(1, keepdims=True)\n",
        "\n",
        "    ix = torch.multinomial(p, num_samples = 1, replacement = True, generator=g).item()\n",
        "    out.append(itos[ix])\n",
        "    if ix == 0:\n",
        "      break\n",
        "  print(''.join(out))"
      ],
      "metadata": {
        "colab": {
          "base_uri": "https://localhost:8080/"
        },
        "id": "RCVZhMh2Rn8N",
        "outputId": "29fb7ca1-d49f-48c9-a403-25bcd824c32f"
      },
      "execution_count": 26,
      "outputs": [
        {
          "output_type": "stream",
          "name": "stdout",
          "text": [
            "juwjdjdjanaqydjufhfbywecn.\n",
            "a.\n",
            "jiin.\n",
            "toziasz.\n",
            "twt.\n"
          ]
        }
      ]
    }
  ]
}