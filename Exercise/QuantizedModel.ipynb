{
  "nbformat": 4,
  "nbformat_minor": 0,
  "metadata": {
    "colab": {
      "provenance": [],
      "authorship_tag": "ABX9TyOb4b3f3vsmJ+12SvT5avqa",
      "include_colab_link": true
    },
    "kernelspec": {
      "name": "python3",
      "display_name": "Python 3"
    },
    "language_info": {
      "name": "python"
    }
  },
  "cells": [
    {
      "cell_type": "markdown",
      "metadata": {
        "id": "view-in-github",
        "colab_type": "text"
      },
      "source": [
        "<a href=\"https://colab.research.google.com/github/YasminBougammoura/nlp/blob/main/QuantizedModel.ipynb\" target=\"_parent\"><img src=\"https://colab.research.google.com/assets/colab-badge.svg\" alt=\"Open In Colab\"/></a>"
      ]
    },
    {
      "cell_type": "code",
      "source": [
        "%reset -f"
      ],
      "metadata": {
        "id": "gnLK5QOaKnoL"
      },
      "execution_count": 127,
      "outputs": []
    },
    {
      "cell_type": "code",
      "execution_count": 1,
      "metadata": {
        "id": "dHOQAYCnfbDM"
      },
      "outputs": [],
      "source": [
        "import torch\n",
        "import torch.nn as nn\n",
        "from torch.nn import functional as F\n",
        "import math"
      ]
    },
    {
      "cell_type": "code",
      "source": [
        "# hyperparameters\n",
        "batch_size = 32 # how many independent sequences will we process in parallel?\n",
        "block_size = 8 # what is the maximum context length for predictions?\n",
        "max_iters = 5000\n",
        "eval_interval = 500\n",
        "learning_rate = 3e-3\n",
        "eval_iters = 200\n",
        "n_embd = 32\n",
        "eps = 1e-3\n",
        "n_head = 4\n",
        "n_layer = 4\n",
        "dropout = 0.2"
      ],
      "metadata": {
        "id": "7HJhIzlofqU2"
      },
      "execution_count": 81,
      "outputs": []
    },
    {
      "cell_type": "code",
      "source": [
        "with open('input.txt','r', encoding = 'utf-8') as f:\n",
        "    text = f.read()"
      ],
      "metadata": {
        "id": "BSw4B9Tsfvvh"
      },
      "execution_count": 3,
      "outputs": []
    },
    {
      "cell_type": "code",
      "source": [
        "# here are all the unique characters that occur in this text\n",
        "chars = sorted(list(set(text)))\n",
        "vocab_size = len(chars)\n",
        "\n",
        "# create a mapping from characters to integers\n",
        "stoi = { ch:i for i,ch in enumerate(chars) }\n",
        "itos = { i:ch for i,ch in enumerate(chars) }\n",
        "encode = lambda s: [stoi[c] for c in s] # encoder: take a string, output a list of integers\n",
        "decode = lambda l: ''.join([itos[i] for i in l]) # decoder: take a list of integers, output a string\n",
        "\n",
        "# Train and test splits\n",
        "data = torch.tensor(encode(text), dtype=torch.long)\n",
        "n = int(0.9*len(data)) # first 90% will be train, rest val\n",
        "train_data = data[:n]\n",
        "val_data = data[n:]"
      ],
      "metadata": {
        "id": "2EWCkb_Pfxp-"
      },
      "execution_count": 4,
      "outputs": []
    },
    {
      "cell_type": "code",
      "source": [
        "# data loading\n",
        "def get_batch(split):\n",
        "    # generate a small batch of data of inputs x and targets y\n",
        "    data = train_data if split == 'train' else val_data\n",
        "    ix = torch.randint(len(data) - block_size, (batch_size,))\n",
        "    x = torch.stack([data[i:i+block_size] for i in ix])\n",
        "    y = torch.stack([data[i+1:i+block_size+1] for i in ix])\n",
        "    return x, y"
      ],
      "metadata": {
        "id": "AGvxyk96f0Sj"
      },
      "execution_count": 5,
      "outputs": []
    },
    {
      "cell_type": "code",
      "source": [
        "@torch.no_grad()\n",
        "def estimate_loss():\n",
        "    out = {}\n",
        "    qmodel.eval()\n",
        "    for split in ['train', 'val']:\n",
        "        losses = torch.zeros(eval_iters)\n",
        "        for k in range(eval_iters):\n",
        "            X, Y = get_batch(split)\n",
        "            logits, loss = qmodel(X, Y)\n",
        "            losses[k] = loss.item()\n",
        "        out[split] = losses.mean()\n",
        "    qmodel.train()\n",
        "    return out"
      ],
      "metadata": {
        "id": "vF5OwOD-KcF5"
      },
      "execution_count": 6,
      "outputs": []
    },
    {
      "cell_type": "code",
      "source": [
        "class BitLinear(nn.Module):\n",
        "\n",
        "  def __init__(self, in_features, out_features, bits):\n",
        "    super().__init__()\n",
        "    self.in_features = in_features\n",
        "    self.out_features = out_features\n",
        "    self.bits = bits\n",
        "    self.weight = nn.Parameter(torch.zeros(out_features, in_features))\n",
        "    nn.init.kaiming_uniform_(self.weight, a = math.sqrt(5))\n",
        "\n",
        "  def quantization(self, input_data):\n",
        "    n,m = self.weight.shape\n",
        "    mean_adj = torch.sum(self.weight)/(n*m)\n",
        "    adj_par = 2**(self.bits-1)/torch.max(torch.abs(input_data))\n",
        "    Wq = torch.sign(self.weight - mean_adj)\n",
        "    Xq = torch.clip(input_data*adj_par, -2**(self.bits-1)+eps, 2**(self.bits-1)-eps)\n",
        "    return Xq,Wq\n",
        "\n",
        "  def forward(self,x):\n",
        "    ln = nn.LayerNorm(x.shape[2])\n",
        "    X_q,W_q = self.quantization(ln(x))\n",
        "    gamma = torch.max(torch.abs(x))\n",
        "    beta = torch.sum(torch.abs(self.weight))/self.weight.shape[0]*self.weight.shape[1]\n",
        "    deq_par = beta * gamma / 2**(self.bits-1)\n",
        "\n",
        "    y = W_q @ X_q.transpose(-2,-1) #* deq_par\n",
        "    y = y.transpose(-2,-1)\n",
        "    return y\n"
      ],
      "metadata": {
        "id": "yxUnSSRxLOww"
      },
      "execution_count": 7,
      "outputs": []
    },
    {
      "cell_type": "code",
      "source": [
        "class BitLinearReLU(nn.Module):\n",
        "\n",
        "  def __init__(self, in_features, out_features, bits):\n",
        "    super().__init__()\n",
        "    self.in_features = in_features\n",
        "    self.out_features = out_features\n",
        "    self.bits = bits\n",
        "    self.weight = nn.Parameter(torch.zeros(out_features, in_features))\n",
        "    nn.init.kaiming_uniform_(self.weight, a = math.sqrt(5))\n",
        "\n",
        "  def quantization(self, input_data):\n",
        "    n,m = self.weight.shape\n",
        "    mean_adj = torch.sum(self.weight)/(n*m)\n",
        "    adj_par = 2**(self.bits-1)/torch.max(torch.abs(input_data))\n",
        "    Wq = torch.sign(self.weight - mean_adj)\n",
        "    Xq = torch.clip((input_data-torch.min(input_data))*adj_par, eps, 2**(self.bits-1)-eps)\n",
        "    return Xq,Wq\n",
        "\n",
        "  def forward(self,x):\n",
        "    ln = nn.LayerNorm(x.shape[2])\n",
        "    X_q,W_q = self.quantization(ln(x))\n",
        "    gamma = torch.max(torch.abs(x))\n",
        "    beta = torch.sum(torch.abs(self.weight))/self.weight.shape[0]*self.weight.shape[1]\n",
        "    deq_par = beta * gamma / 2**(self.bits-1)\n",
        "\n",
        "    y = W_q @ X_q.transpose(-2,-1) #* deq_par\n",
        "    y = y.transpose(-2,-1)\n",
        "    return y"
      ],
      "metadata": {
        "id": "n-DP9oaHpK5o"
      },
      "execution_count": 47,
      "outputs": []
    },
    {
      "cell_type": "code",
      "source": [
        "class Head(nn.Module):\n",
        "    \"\"\" one head of self-attention \"\"\"\n",
        "\n",
        "    def __init__(self, head_size):\n",
        "        super().__init__()\n",
        "        self.head_size = head_size\n",
        "        self.key = BitLinear(n_embd, head_size,2)\n",
        "        self.query = BitLinear(n_embd, head_size,2)\n",
        "        self.value = BitLinear(n_embd, head_size,2)\n",
        "        self.register_buffer('tril', torch.tril(torch.ones(block_size, block_size)))\n",
        "\n",
        "        self.dropout = nn.Dropout(dropout)\n",
        "\n",
        "    def forward(self, x):\n",
        "        # input of size (batch, time-step, channels)\n",
        "        # output of size (batch, time-step, head size)\n",
        "        B,T,C = x.shape\n",
        "        k = self.key(x)   # (B,T,hs)\n",
        "        q = self.query(x) # (B,T,hs)\n",
        "        # compute attention scores (\"affinities\")\n",
        "        wei = q @ k.transpose(-2,-1) * self.head_size **-0.5 # (B, T, hs) @ (B, hs, T) -> (B, T, T)\n",
        "\n",
        "        wei = wei.masked_fill(self.tril[:T, :T] == 0, float('-inf')) # (B, T, T)\n",
        "        wei = F.softmax(wei, dim=-1) # (B, T, T)\n",
        "        wei = self.dropout(wei)\n",
        "        # perform the weighted aggregation of the values\n",
        "        v = self.value(x) # (B,T,hs)\n",
        "        out = wei @ v # (B, T, T) @ (B, T, hs) -> (B, T, hs)\n",
        "        return out\n"
      ],
      "metadata": {
        "id": "jFjSeVbbVp1h"
      },
      "execution_count": 83,
      "outputs": []
    },
    {
      "cell_type": "code",
      "source": [
        "class MultiHeadAttention(nn.Module):\n",
        "\n",
        "  def __init__(self,num_heads, head_size):\n",
        "    super().__init__()\n",
        "    self.heads = nn.ModuleList([Head(head_size) for _ in range(num_heads)])\n",
        "    self.proj = nn.Linear(n_embd, n_embd)\n",
        "    self.dropout = nn.Dropout(dropout)\n",
        "\n",
        "  def forward(self,x):\n",
        "    out = torch.cat([h(x) for h in self.heads], dim = -1) #concat over channel dim\n",
        "    out = self.proj(out)\n",
        "    return out"
      ],
      "metadata": {
        "id": "sH6QsibHlX95"
      },
      "execution_count": 84,
      "outputs": []
    },
    {
      "cell_type": "code",
      "source": [
        "class FeedForward(nn.Module):\n",
        "\n",
        "  def __init__(self, n_embd):\n",
        "    super().__init__()\n",
        "    self.net = nn.Sequential(\n",
        "        BitLinearReLU(n_embd,n_embd,2), # *4 secondo argomento\n",
        "        nn.ReLU(),\n",
        "        nn.Linear(n_embd, n_embd), #proj layer #*4 primo argomento\n",
        "        nn.Dropout(dropout),\n",
        "    )\n",
        "\n",
        "  def forward(self,x):\n",
        "    return self.net(x)"
      ],
      "metadata": {
        "id": "6mPj3OMZmX5t"
      },
      "execution_count": 85,
      "outputs": []
    },
    {
      "cell_type": "code",
      "source": [
        "class Block(nn.Module):\n",
        "\n",
        "  def __init__(self, n_embd, n_head):\n",
        "    super().__init__()\n",
        "    head_size = n_embd//n_head\n",
        "    self.sa = MultiHeadAttention(n_head, head_size)\n",
        "    self.ffwd = FeedForward(n_embd)\n",
        "    self.ln1 = nn.LayerNorm(n_embd)\n",
        "    self.ln2 = nn.LayerNorm(n_embd)\n",
        "\n",
        "  def forward(self,x):\n",
        "    x = x + self.sa(self.ln1(x))\n",
        "    x = x + self.ffwd(self.ln2(x))\n",
        "    return x"
      ],
      "metadata": {
        "id": "6RN-M6XxtiQt"
      },
      "execution_count": 86,
      "outputs": []
    },
    {
      "cell_type": "code",
      "source": [
        "# super simple bigram model\n",
        "class BigramLanguageModel(nn.Module):\n",
        "\n",
        "    def __init__(self):\n",
        "        super().__init__()\n",
        "        # each token directly reads off the logits for the next token from a lookup table\n",
        "        self.token_embedding_table = nn.Embedding(vocab_size, n_embd)\n",
        "        self.position_embedding_table = nn.Embedding(block_size, n_embd)\n",
        "        self.blocks = nn.Sequential(*[Block(n_embd, n_head = n_head) for _ in range(n_layer)])\n",
        "        self.ln_f = nn.LayerNorm(n_embd)\n",
        "        self.bitlayer = BitLinear(n_embd,vocab_size,2)\n",
        "\n",
        "\n",
        "    def forward(self, idx, targets=None):\n",
        "        B,T = idx.shape\n",
        "\n",
        "        # idx and targets are both (B,T) tensor of integers\n",
        "        tok_emb = self.token_embedding_table(idx) # (B,T,C)\n",
        "        pos_emb = self.position_embedding_table(torch.arange(T)) #(T,C)\n",
        "        x = tok_emb + pos_emb #(B,T,C)\n",
        "        x = self.blocks(x)\n",
        "        x = self.ln_f(x)\n",
        "        logits = self.bitlayer(x)\n",
        "\n",
        "        if targets is None:\n",
        "            loss = None\n",
        "        else:\n",
        "            B, T, C = logits.shape\n",
        "            logits = logits.reshape(B*T, C)\n",
        "            targets = targets.reshape(B*T)\n",
        "            loss = F.cross_entropy(logits, targets)\n",
        "\n",
        "        return logits, loss\n",
        "\n",
        "    def generate(self, idx, max_new_tokens):\n",
        "        # idx is (B, T) array of indices in the current context\n",
        "        for _ in range(max_new_tokens):\n",
        "\n",
        "            idx_cond = idx[:,-block_size:]\n",
        "            # get the predictions\n",
        "            logits, loss = self(idx_cond)\n",
        "            # focus only on the last time step\n",
        "            logits = logits[:, -1, :] # becomes (B, C)\n",
        "            # apply softmax to get probabilities\n",
        "            probs = F.softmax(logits, dim=-1) # (B, C)\n",
        "            # sample from the distribution\n",
        "            idx_next = torch.multinomial(probs, num_samples=1) # (B, 1)\n",
        "            # append sampled index to the running sequence\n",
        "            idx = torch.cat((idx, idx_next), dim=1) # (B, T+1)\n",
        "        return idx"
      ],
      "metadata": {
        "id": "Mq9N8KLKgKKF"
      },
      "execution_count": 87,
      "outputs": []
    },
    {
      "cell_type": "code",
      "source": [
        "qmodel = BigramLanguageModel()"
      ],
      "metadata": {
        "id": "2AHW-6G-gnmj"
      },
      "execution_count": 88,
      "outputs": []
    },
    {
      "cell_type": "code",
      "source": [
        "optimizer = torch.optim.AdamW(qmodel.parameters(), lr=learning_rate)\n",
        "\n",
        "for iter in range(max_iters):\n",
        "\n",
        "    # every once in a while evaluate the loss on train and val sets\n",
        "    if iter % eval_interval == 0:\n",
        "        losses = estimate_loss()\n",
        "        print(f\"step {iter}: train loss {losses['train']:.4f}, val loss {losses['val']:.4f}\")\n",
        "\n",
        "    # sample a batch of data\n",
        "    xb, yb = get_batch('train')\n",
        "\n",
        "    # evaluate the loss\n",
        "    logits, loss = qmodel(xb, yb)\n",
        "    optimizer.zero_grad(set_to_none=True)\n",
        "    loss.backward()\n",
        "    optimizer.step()"
      ],
      "metadata": {
        "colab": {
          "base_uri": "https://localhost:8080/"
        },
        "id": "MmLt_wyAJg4o",
        "outputId": "073afc2e-3dca-4941-97eb-0f6f91572a1f"
      },
      "execution_count": 89,
      "outputs": [
        {
          "output_type": "stream",
          "name": "stdout",
          "text": [
            "step 0: train loss 7.6065, val loss 7.6757\n",
            "step 500: train loss 4.1484, val loss 4.2275\n",
            "step 1000: train loss 4.0566, val loss 4.1290\n",
            "step 1500: train loss 3.5238, val loss 3.5563\n",
            "step 2000: train loss 3.2146, val loss 3.2122\n",
            "step 2500: train loss 3.0099, val loss 2.9947\n",
            "step 3000: train loss 2.8618, val loss 2.8671\n",
            "step 3500: train loss 2.8075, val loss 2.7913\n",
            "step 4000: train loss 2.7687, val loss 2.7556\n",
            "step 4500: train loss 2.7024, val loss 2.7095\n"
          ]
        }
      ]
    },
    {
      "cell_type": "code",
      "source": [
        "print(decode(qmodel.generate(idx = torch.zeros((1,1),dtype = torch.long), max_new_tokens=500)[0].tolist()))"
      ],
      "metadata": {
        "colab": {
          "base_uri": "https://localhost:8080/"
        },
        "id": "r3odu5vXIWPQ",
        "outputId": "d87e6afe-6661-45ce-f970-f27a9f977e3f"
      },
      "execution_count": 70,
      "outputs": [
        {
          "output_type": "stream",
          "name": "stdout",
          "text": [
            "\n",
            "LNEGhRUKKnNEP:\n",
            "I cuath wean cealldG :\n",
            "SHees.\n",
            "Ilo con, Jthe shoCas oul de loll zoubrsVandast an:\n",
            "YElCNhardlllcesft\n",
            "AnlllllS:\n",
            "xo allllds of th wharGes crNElE$ENIRARNR'PREL:\n",
            "Loz nand-d fa3DVouBeXPeaXGk\n",
            "Thxalowh cumc oxst tent\n",
            "hat co& ;o puX\n",
            "Q\n",
            "E'llERSED'Phe mGouateryour Qofis wersw afs\n",
            "KondY:\n",
            "Be,X\n",
            "tqat\n",
            "HenD ateXlen KIJoA se GoseCe? cJrouzfffeo Illojrd lonl erdt\n",
            "W whin,\n",
            "Qily,\n",
            "PoutOEDSheX 's the wharth che JBouerpeD Bouf$e man$llord\n",
            "Ture inakealld amenn$ sheramerel?\n",
            "\n",
            "endG,\n",
            "ADow Ohishem$\n",
            "Hhoy whoud, Ma\n"
          ]
        }
      ]
    }
  ]
}