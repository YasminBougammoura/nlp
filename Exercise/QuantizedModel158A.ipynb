{
  "nbformat": 4,
  "nbformat_minor": 0,
  "metadata": {
    "colab": {
      "provenance": [],
      "authorship_tag": "ABX9TyPlngK0kUHLup/k/89NFAvT",
      "include_colab_link": true
    },
    "kernelspec": {
      "name": "python3",
      "display_name": "Python 3"
    },
    "language_info": {
      "name": "python"
    }
  },
  "cells": [
    {
      "cell_type": "markdown",
      "metadata": {
        "id": "view-in-github",
        "colab_type": "text"
      },
      "source": [
        "<a href=\"https://colab.research.google.com/github/YasminBougammoura/nlp/blob/main/QuantizedModel158A.ipynb\" target=\"_parent\"><img src=\"https://colab.research.google.com/assets/colab-badge.svg\" alt=\"Open In Colab\"/></a>"
      ]
    },
    {
      "cell_type": "code",
      "source": [
        "%reset -f"
      ],
      "metadata": {
        "id": "gnLK5QOaKnoL"
      },
      "execution_count": 94,
      "outputs": []
    },
    {
      "cell_type": "code",
      "execution_count": 95,
      "metadata": {
        "id": "dHOQAYCnfbDM"
      },
      "outputs": [],
      "source": [
        "import torch\n",
        "import torch.nn as nn\n",
        "from torch.nn import functional as F\n",
        "import math"
      ]
    },
    {
      "cell_type": "code",
      "source": [
        "# hyperparameters\n",
        "batch_size = 32 # how many independent sequences will we process in parallel?\n",
        "block_size = 8 # what is the maximum context length for predictions?\n",
        "max_iters = 5000\n",
        "eval_interval = 500\n",
        "learning_rate = 1e-3\n",
        "eval_iters = 200\n",
        "n_embd = 32\n",
        "eps = 1e-3\n",
        "n_head = 4\n",
        "n_layer = 4\n",
        "dropout = 0.2"
      ],
      "metadata": {
        "id": "7HJhIzlofqU2"
      },
      "execution_count": 96,
      "outputs": []
    },
    {
      "cell_type": "code",
      "source": [
        "with open('input.txt','r', encoding = 'utf-8') as f:\n",
        "    text = f.read()"
      ],
      "metadata": {
        "id": "BSw4B9Tsfvvh"
      },
      "execution_count": 97,
      "outputs": []
    },
    {
      "cell_type": "code",
      "source": [
        "# here are all the unique characters that occur in this text\n",
        "chars = sorted(list(set(text)))\n",
        "vocab_size = len(chars)\n",
        "\n",
        "# create a mapping from characters to integers\n",
        "stoi = { ch:i for i,ch in enumerate(chars) }\n",
        "itos = { i:ch for i,ch in enumerate(chars) }\n",
        "encode = lambda s: [stoi[c] for c in s] # encoder: take a string, output a list of integers\n",
        "decode = lambda l: ''.join([itos[i] for i in l]) # decoder: take a list of integers, output a string\n",
        "\n",
        "# Train and test splits\n",
        "data = torch.tensor(encode(text), dtype=torch.long)\n",
        "n = int(0.9*len(data)) # first 90% will be train, rest val\n",
        "train_data = data[:n]\n",
        "val_data = data[n:]"
      ],
      "metadata": {
        "id": "2EWCkb_Pfxp-"
      },
      "execution_count": 98,
      "outputs": []
    },
    {
      "cell_type": "code",
      "source": [
        "# data loading\n",
        "def get_batch(split):\n",
        "    # generate a small batch of data of inputs x and targets y\n",
        "    data = train_data if split == 'train' else val_data\n",
        "    ix = torch.randint(len(data) - block_size, (batch_size,))\n",
        "    x = torch.stack([data[i:i+block_size] for i in ix])\n",
        "    y = torch.stack([data[i+1:i+block_size+1] for i in ix])\n",
        "    return x, y"
      ],
      "metadata": {
        "id": "AGvxyk96f0Sj"
      },
      "execution_count": 99,
      "outputs": []
    },
    {
      "cell_type": "code",
      "source": [
        "@torch.no_grad()\n",
        "def estimate_loss():\n",
        "    out = {}\n",
        "    qmodel.eval()\n",
        "    for split in ['train', 'val']:\n",
        "        losses = torch.zeros(eval_iters)\n",
        "        for k in range(eval_iters):\n",
        "            X, Y = get_batch(split)\n",
        "            logits, loss = qmodel(X, Y)\n",
        "            losses[k] = loss.item()\n",
        "        out[split] = losses.mean()\n",
        "    qmodel.train()\n",
        "    return out"
      ],
      "metadata": {
        "id": "vF5OwOD-KcF5"
      },
      "execution_count": 100,
      "outputs": []
    },
    {
      "cell_type": "code",
      "source": [
        "class BitLinear(nn.Module):\n",
        "\n",
        "  def __init__(self, in_features, out_features, bits):\n",
        "    super().__init__()\n",
        "    self.in_features = in_features\n",
        "    self.out_features = out_features\n",
        "    self.bits = bits\n",
        "    self.weight = nn.Parameter(torch.Tensor(out_features, in_features))\n",
        "    self.bias = nn.Parameter(torch.Tensor(out_features))\n",
        "    #nn.init.xavier_uniform_(self.weight) #, a = math.sqrt(5))\n",
        "\n",
        "    self.reset_parameters()\n",
        "\n",
        "  def reset_parameters(self):\n",
        "\n",
        "    stdv = 1.0 / math.sqrt(self.weight.size(1))\n",
        "    self.weight.data.uniform_(-stdv, stdv)\n",
        "    self.bias.data.uniform_(-stdv, stdv)\n",
        "\n",
        "  def quantization(self, input_data):\n",
        "\n",
        "    abs_mean = torch.mean(torch.abs(self.weight)) + eps\n",
        "    W = self.weight/abs_mean\n",
        "    #adj_par = 2**(self.bits-1)/torch.max(torch.abs(input_data))\n",
        "\n",
        "    if self.training:\n",
        "      Wq = W + (torch.clip(torch.round(W),-1,1) - W).detach()\n",
        "    else:\n",
        "      Wq = torch.clip(torch.round(W),-1,1)\n",
        "\n",
        "    Xq = abs_mean * input_data\n",
        "    #Xq = torch.clip(torch.round(input_data*adj_par), -2**(self.bits-1)+eps, 2**(self.bits-1)-eps)\n",
        "\n",
        "    return Xq,Wq\n",
        "\n",
        "  def forward(self,x):\n",
        "    ln = nn.LayerNorm(x.shape[2])\n",
        "    X_q,W_q = self.quantization(ln(x))\n",
        "\n",
        "    #gamma = torch.max(torch.abs(x))\n",
        "    #beta = torch.sum(torch.abs(self.weight))/self.weight.shape[0]*self.weight.shape[1]\n",
        "    #deq_par =\n",
        "\n",
        "    y = F.linear(X_q, W_q, self.bias)\n",
        "\n",
        "    #y = W_q @ X_q.transpose(-2,-1)\n",
        "    #y = y.transpose(-2,-1)\n",
        "    #y = y + self.bias.unsqueeze(0)\n",
        "\n",
        "    return y\n"
      ],
      "metadata": {
        "id": "yxUnSSRxLOww"
      },
      "execution_count": 101,
      "outputs": []
    },
    {
      "cell_type": "code",
      "source": [
        "class Head(nn.Module):\n",
        "    \"\"\" one head of self-attention \"\"\"\n",
        "\n",
        "    def __init__(self, head_size):\n",
        "        super().__init__()\n",
        "        self.head_size = head_size\n",
        "        self.key = BitLinear(n_embd, head_size,8)\n",
        "        self.query = BitLinear(n_embd, head_size,8)\n",
        "        self.value = BitLinear(n_embd, head_size,8)\n",
        "        self.register_buffer('tril', torch.tril(torch.ones(block_size, block_size)))\n",
        "\n",
        "        self.dropout = nn.Dropout(dropout)\n",
        "\n",
        "    def forward(self, x):\n",
        "        # input of size (batch, time-step, channels)\n",
        "        # output of size (batch, time-step, head size)\n",
        "        B,T,C = x.shape\n",
        "        k = self.key(x)   # (B,T,hs)\n",
        "        q = self.query(x) # (B,T,hs)\n",
        "        # compute attention scores (\"affinities\")\n",
        "        wei = q @ k.transpose(-2,-1) * self.head_size **-0.5 # (B, T, hs) @ (B, hs, T) -> (B, T, T)\n",
        "\n",
        "        wei = wei.masked_fill(self.tril[:T, :T] == 0, float('-inf')) # (B, T, T)\n",
        "        wei = F.softmax(wei, dim=-1) # (B, T, T)\n",
        "        wei = self.dropout(wei)\n",
        "        # perform the weighted aggregation of the values\n",
        "        v = self.value(x) # (B,T,hs)\n",
        "        out = wei @ v # (B, T, T) @ (B, T, hs) -> (B, T, hs)\n",
        "        return out\n"
      ],
      "metadata": {
        "id": "jFjSeVbbVp1h"
      },
      "execution_count": 102,
      "outputs": []
    },
    {
      "cell_type": "code",
      "source": [
        "class MultiHeadAttention(nn.Module):\n",
        "\n",
        "  def __init__(self,num_heads, head_size):\n",
        "    super().__init__()\n",
        "    self.heads = nn.ModuleList([Head(head_size) for _ in range(num_heads)])\n",
        "    self.proj = BitLinear(n_embd, n_embd,8)\n",
        "    self.dropout = nn.Dropout(dropout)\n",
        "\n",
        "  def forward(self,x):\n",
        "    out = torch.cat([h(x) for h in self.heads], dim = -1) #concat over channel dim\n",
        "    out = self.proj(out)\n",
        "    return out"
      ],
      "metadata": {
        "id": "sH6QsibHlX95"
      },
      "execution_count": 103,
      "outputs": []
    },
    {
      "cell_type": "code",
      "source": [
        "class FeedForward(nn.Module):\n",
        "\n",
        "  def __init__(self, n_embd):\n",
        "    super().__init__()\n",
        "    self.net = nn.Sequential(\n",
        "        BitLinear(n_embd,4*n_embd,8), # *4 secondo argomento\n",
        "        nn.ReLU(),\n",
        "        BitLinear(4*n_embd, n_embd,8), #proj layer #*4 primo argomento\n",
        "        nn.Dropout(dropout),\n",
        "    )\n",
        "\n",
        "  def forward(self,x):\n",
        "    return self.net(x)"
      ],
      "metadata": {
        "id": "6mPj3OMZmX5t"
      },
      "execution_count": 104,
      "outputs": []
    },
    {
      "cell_type": "code",
      "source": [
        "class Block(nn.Module):\n",
        "\n",
        "  def __init__(self, n_embd, n_head):\n",
        "    super().__init__()\n",
        "    head_size = n_embd//n_head\n",
        "    self.sa = MultiHeadAttention(n_head, head_size)\n",
        "    self.ffwd = FeedForward(n_embd)\n",
        "    self.ln1 = nn.LayerNorm(n_embd)\n",
        "    self.ln2 = nn.LayerNorm(n_embd)\n",
        "\n",
        "  def forward(self,x):\n",
        "    x = x + self.sa(self.ln1(x))\n",
        "    x = x + self.ffwd(self.ln2(x))\n",
        "    return x"
      ],
      "metadata": {
        "id": "6RN-M6XxtiQt"
      },
      "execution_count": 106,
      "outputs": []
    },
    {
      "cell_type": "code",
      "source": [
        "# super simple bigram model\n",
        "class BigramLanguageModel(nn.Module):\n",
        "\n",
        "    def __init__(self):\n",
        "        super().__init__()\n",
        "        # each token directly reads off the logits for the next token from a lookup table\n",
        "        self.token_embedding_table = nn.Embedding(vocab_size, n_embd)\n",
        "        self.position_embedding_table = nn.Embedding(block_size, n_embd)\n",
        "        self.blocks = nn.Sequential(*[Block(n_embd, n_head = n_head) for _ in range(n_layer)])\n",
        "        self.ln_f = nn.LayerNorm(n_embd)\n",
        "        #self.bitlayer = BitLinear(n_embd,vocab_size,8)\n",
        "        self.linear = nn.Linear(n_embd,vocab_size)\n",
        "\n",
        "\n",
        "    def forward(self, idx, targets=None):\n",
        "        B,T = idx.shape\n",
        "\n",
        "        # idx and targets are both (B,T) tensor of integers\n",
        "        tok_emb = self.token_embedding_table(idx) # (B,T,C)\n",
        "        pos_emb = self.position_embedding_table(torch.arange(T)) #(T,C)\n",
        "        x = tok_emb + pos_emb #(B,T,C)\n",
        "        x = self.blocks(x)\n",
        "        x = self.ln_f(x)\n",
        "        logits = self.linear(x) #self.bitlayer(x)\n",
        "\n",
        "        if targets is None:\n",
        "            loss = None\n",
        "        else:\n",
        "            B, T, C = logits.shape\n",
        "            logits = logits.reshape(B*T, C)\n",
        "            targets = targets.reshape(B*T)\n",
        "            loss = F.cross_entropy(logits, targets)\n",
        "\n",
        "        return logits, loss\n",
        "\n",
        "    def generate(self, idx, max_new_tokens):\n",
        "        # idx is (B, T) array of indices in the current context\n",
        "        for _ in range(max_new_tokens):\n",
        "\n",
        "            idx_cond = idx[:,-block_size:]\n",
        "            # get the predictions\n",
        "            logits, loss = self(idx_cond)\n",
        "            # focus only on the last time step\n",
        "            logits = logits[:, -1, :] # becomes (B, C)\n",
        "            # apply softmax to get probabilities\n",
        "            probs = F.softmax(logits, dim=-1) # (B, C)\n",
        "            # sample from the distribution\n",
        "            idx_next = torch.multinomial(probs, num_samples=1) # (B, 1)\n",
        "            # append sampled index to the running sequence\n",
        "            idx = torch.cat((idx, idx_next), dim=1) # (B, T+1)\n",
        "        return idx"
      ],
      "metadata": {
        "id": "Mq9N8KLKgKKF"
      },
      "execution_count": 114,
      "outputs": []
    },
    {
      "cell_type": "code",
      "source": [
        "qmodel = BigramLanguageModel()"
      ],
      "metadata": {
        "id": "2AHW-6G-gnmj"
      },
      "execution_count": 115,
      "outputs": []
    },
    {
      "cell_type": "code",
      "source": [
        "optimizer = torch.optim.AdamW(qmodel.parameters(), lr=learning_rate)\n",
        "\n",
        "for iter in range(max_iters):\n",
        "\n",
        "    # every once in a while evaluate the loss on train and val sets\n",
        "    if iter % eval_interval == 0:\n",
        "        losses = estimate_loss()\n",
        "        print(f\"step {iter}: train loss {losses['train']:.4f}, val loss {losses['val']:.4f}\")\n",
        "\n",
        "    # sample a batch of data\n",
        "    xb, yb = get_batch('train')\n",
        "\n",
        "    # evaluate the loss\n",
        "    logits, loss = qmodel(xb, yb)\n",
        "    optimizer.zero_grad(set_to_none=True)\n",
        "    loss.backward()\n",
        "    optimizer.step()"
      ],
      "metadata": {
        "colab": {
          "base_uri": "https://localhost:8080/"
        },
        "id": "MmLt_wyAJg4o",
        "outputId": "1089536e-5048-41aa-8ffe-ee0c46244b69"
      },
      "execution_count": 116,
      "outputs": [
        {
          "output_type": "stream",
          "name": "stdout",
          "text": [
            "step 0: train loss 4.2602, val loss 4.2597\n",
            "step 500: train loss 2.4678, val loss 2.4800\n",
            "step 1000: train loss 2.3595, val loss 2.3727\n",
            "step 1500: train loss 2.3005, val loss 2.3137\n",
            "step 2000: train loss 2.2567, val loss 2.2801\n",
            "step 2500: train loss 2.2282, val loss 2.2520\n",
            "step 3000: train loss 2.1922, val loss 2.2245\n",
            "step 3500: train loss 2.1970, val loss 2.2198\n",
            "step 4000: train loss 2.1700, val loss 2.2108\n",
            "step 4500: train loss 2.1604, val loss 2.1808\n"
          ]
        }
      ]
    },
    {
      "cell_type": "code",
      "source": [
        "print(decode(qmodel.generate(idx = torch.zeros((1,1),dtype = torch.long), max_new_tokens=500)[0].tolist()))"
      ],
      "metadata": {
        "colab": {
          "base_uri": "https://localhost:8080/"
        },
        "id": "r3odu5vXIWPQ",
        "outputId": "d1c4631f-b471-423e-c11f-9acb0c1e8249"
      },
      "execution_count": 117,
      "outputs": [
        {
          "output_type": "stream",
          "name": "stdout",
          "text": [
            "\n",
            "\n",
            "PULERTOUS:\n",
            "Head cinaird!, I't whor ful mre, mok\n",
            "Ce.T MuRCu\n",
            "That?\n",
            "\n",
            "FajuR:\n",
            "And wends: goods leavereas,\n",
            "\n",
            "Bui hatur met. Prand Sise echom,\n",
            "\n",
            "Thy\n",
            "GLorre iy ut hour he'as; woe dige\n",
            "Tharoun have is for areck,\n",
            "Therry now Hot dily Her not chat fait ther stul tontran.\n",
            "\n",
            "KIZAng And bront monace, warte a weld puearvion?\n",
            "\n",
            "PRD\n",
            "MOLARUKIA:\n",
            "No:\n",
            "Haur reseits\n",
            "Thou\n",
            "You a coman!\n",
            "\n",
            "FEOWBeNG I KIr Rerireg\n",
            "With borsed mor my magt spaemerm:s of you lee.\n",
            "\n",
            "CoUning Rarteniath bin is rie vevot Los bat,\n",
            "\n",
            "On I spird the thou ra\n"
          ]
        }
      ]
    }
  ]
}